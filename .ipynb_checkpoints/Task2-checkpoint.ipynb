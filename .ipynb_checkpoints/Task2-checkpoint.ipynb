{
 "cells": [
  {
   "cell_type": "markdown",
   "metadata": {},
   "source": [
    "## Task 2\n",
    "\n",
    "### Question\n",
    "Implement a circuit that returns $|01\\rangle$ and $|10\\rangle$ with equal probability.\n",
    "\n",
    "Requirements :\n",
    "\n",
    "-The circuit should consist only of CNOTs, RXs and RYs.\n",
    "\n",
    "-Start from all parameters in parametric gates being equal to 0 or randomly chosen. \n",
    "\n",
    "-You should find the right set of parameters using gradient descent (you might use more advanced optimization methods if you like). \n",
    "\n",
    "-Simulations must be done with sampling - i.e. a limited number of measurements per iteration and noise. \n",
    "\n",
    "Compare the results for different numbers of measurements: 1, 10, 100, 1000. \n",
    "\n",
    "#### Bonus question:\n",
    "How to make sure you produce state $|01\\rangle$ + $|10\\rangle$ and not $|01\\rangle$ - $|10\\rangle$ ?\n"
   ]
  },
  {
   "cell_type": "markdown",
   "metadata": {},
   "source": [
    "### Solution\n",
    "\n",
    "As a part of QOSF screening tasks I am attempting the above question with Pennylane with qiskit plugin. \n",
    "\n",
    "* I used pennylane because it provides an easy way to define circuits with parameters as well as wide range of optimizers to optimize the circuit with.\n",
    "\n",
    "* I am using qiskit pugin to import the noise model"
   ]
  },
  {
   "cell_type": "markdown",
   "metadata": {},
   "source": [
    "#### Import the required libraries"
   ]
  },
  {
   "cell_type": "code",
   "execution_count": 1,
   "metadata": {},
   "outputs": [],
   "source": [
    "import pennylane as qml\n",
    "import numpy as np\n",
    "import matplotlib.pyplot as plt\n",
    "\n",
    "from qiskit import *\n",
    "from qiskit.providers.aer.noise import NoiseModel"
   ]
  },
  {
   "cell_type": "markdown",
   "metadata": {},
   "source": [
    "#### Import the noise model"
   ]
  },
  {
   "cell_type": "code",
   "execution_count": 2,
   "metadata": {},
   "outputs": [
    {
     "name": "stderr",
     "output_type": "stream",
     "text": [
      "/home/rochisha/anaconda3/envs/quantum/lib/python3.8/site-packages/qiskit/providers/ibmq/ibmqfactory.py:192: UserWarning: Timestamps in IBMQ backend properties, jobs, and job results are all now in local time instead of UTC.\n",
      "  warnings.warn('Timestamps in IBMQ backend properties, jobs, and job results '\n"
     ]
    }
   ],
   "source": [
    "provider = IBMQ.load_account()\n",
    "backend = provider.get_backend('ibmq_vigo')\n",
    "noise_model = NoiseModel.from_backend(backend)"
   ]
  },
  {
   "cell_type": "markdown",
   "metadata": {},
   "source": [
    "We need the state $\\tfrac{1}{\\sqrt{2}}(|01\\rangle + |10\\rangle)$. Essentially this state is a Bell's State that can be developed by applying creating a superposition through Hadamard Gate.\n",
    "\n",
    "$$|0\\rangle \\otimes |1\\rangle \\rightarrow \\tfrac{1}{\\sqrt{2}}(|0\\rangle + |1\\rangle)  \\otimes |1\\rangle$$\n",
    "$$|1\\rangle \\otimes |1\\rangle \\rightarrow \\tfrac{1}{\\sqrt{2}}(|0\\rangle - |1\\rangle)  \\otimes |1\\rangle$$\n",
    "\n",
    "Then apply a CNOT gate which gives,\n",
    "$$\\tfrac{1}{\\sqrt{2}}(|0\\rangle + |1\\rangle)  \\otimes |1\\rangle \\rightarrow \\tfrac{1}{\\sqrt{2}}(|01\\rangle + |10\\rangle)$$\n",
    "$$\\tfrac{1}{\\sqrt{2}}(|0\\rangle - |1\\rangle)  \\otimes |1\\rangle \\rightarrow \\tfrac{1}{\\sqrt{2}}(|01\\rangle - |10\\rangle)$$\n",
    "\n",
    "But for the sake of the task we have to use Rx and Ry gates and find the parameters through optimization."
   ]
  },
  {
   "cell_type": "markdown",
   "metadata": {},
   "source": [
    "#### Creating the circuit with H and X and CNOT"
   ]
  },
  {
   "cell_type": "code",
   "execution_count": 3,
   "metadata": {},
   "outputs": [
    {
     "data": {
      "text/plain": [
       "array([0.034, 0.487, 0.471, 0.008])"
      ]
     },
     "execution_count": 3,
     "metadata": {},
     "output_type": "execute_result"
    }
   ],
   "source": [
    "number_qubits = 2\n",
    "\n",
    "dev1 = qml.device(\"qiskit.aer\", wires=number_qubits, shots=1000, noise_model = noise_model, analytic=False)\n",
    "#initialized the device with analytics= False because we will change the no. of shots for sampling\n",
    "\n",
    "@qml.qnode(dev1)\n",
    "def psi():\n",
    "    \n",
    "    qml.Hadamard(wires=0)\n",
    "    \n",
    "    qml.PauliX(wires=1)\n",
    "    \n",
    "    qml.CNOT(wires=[0, 1])\n",
    "    \n",
    "    #Return probablity of states in lexigrophical ordering '00', '01', '10', '11'\n",
    "    return qml.probs(wires=[0,1]) \n",
    "\n",
    "psi()"
   ]
  },
  {
   "cell_type": "markdown",
   "metadata": {},
   "source": [
    "#### Creating the circuit with parametrized Rx, Ry (we take two parameters). I don't add RX gate on the first qubit because it adds a phase of $-i$. "
   ]
  },
  {
   "cell_type": "code",
   "execution_count": 4,
   "metadata": {},
   "outputs": [],
   "source": [
    "def circ(theta):\n",
    "    qml.RY(theta[0], wires=0)\n",
    "    \n",
    "    qml.RX(theta[1], wires=1)\n",
    "    \n",
    "    qml.CNOT(wires=[0, 1])"
   ]
  },
  {
   "cell_type": "markdown",
   "metadata": {},
   "source": [
    "We want the parameter for RY gate to be $\\pm \\frac{\\pi}{2}$ and RX gate to be $\\pm \\pi$"
   ]
  },
  {
   "cell_type": "markdown",
   "metadata": {},
   "source": [
    "#### Intitalizing the circuit with noise"
   ]
  },
  {
   "cell_type": "code",
   "execution_count": 5,
   "metadata": {},
   "outputs": [],
   "source": [
    "number_qubits = 2\n",
    "\n",
    "dev = qml.device(\"qiskit.aer\", wires=number_qubits, shots=1000, noise_model = noise_model, analytic=False)\n",
    "\n",
    "@qml.qnode(dev)\n",
    "def bell_state(theta):\n",
    "    \n",
    "    circ(theta)\n",
    "    \n",
    "    return qml.probs(wires=[0,1])"
   ]
  },
  {
   "cell_type": "markdown",
   "metadata": {},
   "source": [
    "#### Without noise"
   ]
  },
  {
   "cell_type": "code",
   "execution_count": 6,
   "metadata": {},
   "outputs": [],
   "source": [
    "number_qubits = 2\n",
    "\n",
    "dev_noiseless = qml.device(\"qiskit.aer\", wires=number_qubits, shots=1000, analytic=False)\n",
    "\n",
    "@qml.qnode(dev_noiseless)\n",
    "def bell_state_noiseless(theta):\n",
    "    \n",
    "    circ(theta)\n",
    "    \n",
    "    return qml.probs(wires=[0,1])"
   ]
  },
  {
   "cell_type": "markdown",
   "metadata": {},
   "source": [
    "`qml.probs()` will return a flat array or tensor containing the (marginal) probabilities of each quantum state in the lexigrophic ordering. \n",
    "\n",
    "Hence first value of the array corresponds to probability of state '00', second '01', third '10' and fourth '11'\n",
    "\n",
    "We have to get the probablity of state,\n",
    "$$00 \\rightarrow 0 $$\n",
    "$$01 \\rightarrow 0.5 $$\n",
    "$$10 \\rightarrow 0.5 $$\n",
    "$$11 \\rightarrow 0 $$\n",
    "\n",
    "We have to minimize,\n",
    " `((prob_00-0)**2 + (prob_01-0.5)**2 + (prob_10-0.5)**2 + (prob_11-0)**2)`"
   ]
  },
  {
   "cell_type": "code",
   "execution_count": 7,
   "metadata": {},
   "outputs": [],
   "source": [
    "def cost(theta):               # Cost for noisy simulations\n",
    "    prob_00, prob_01, prob_10, prob_11 = bell_state(theta)\n",
    "    return ((prob_00-0)**2 + (prob_01-0.5)**2 + (prob_10-0.5)**2 + (prob_11-0)**2)"
   ]
  },
  {
   "cell_type": "code",
   "execution_count": 8,
   "metadata": {},
   "outputs": [],
   "source": [
    "def cost_noiseless(theta):        # Cost for noiseless simulations\n",
    "    prob_00, prob_01, prob_10, prob_11 = bell_state_noiseless(theta)\n",
    "    return ((prob_00-0)**2 + (prob_01-0.5)**2 + (prob_10-0.5)**2 + (prob_11-0)**2)"
   ]
  },
  {
   "cell_type": "markdown",
   "metadata": {},
   "source": [
    "Now we have to find the parameters by the Gradient Descent Optimizer (given in the library) and minimize the cost."
   ]
  },
  {
   "cell_type": "code",
   "execution_count": 9,
   "metadata": {},
   "outputs": [
    {
     "name": "stdout",
     "output_type": "stream",
     "text": [
      "--------------------------------\n",
      "\n",
      "For 1 shots\n",
      "\n",
      "The cost for 1 measurement sampling is 1.5\n",
      "\n",
      "The parameters are [ 0.54452463 -0.17907293]\n",
      "\n",
      "The cost for 1 measurement sampling is 1.5\n",
      "\n",
      "The parameters are [ 1.44452463 -1.37907293]\n",
      "\n",
      "The cost for 1 measurement sampling is 0.5\n",
      "\n",
      "The parameters are [ 2.34452463 -3.17907293]\n",
      "\n",
      "The cost for 1 measurement sampling is 0.5\n",
      "\n",
      "The parameters are [ 4.14452463 -3.77907293]\n",
      "\n",
      "Final probability of states is as follows: \n",
      "\n",
      "\n",
      " Probality of 00 is: 0.0 \n",
      " Probality of 01 is: 0.0 \n",
      " Probality of 10 is: 1.0 \n",
      " Probality of 11 is: 0.0\n",
      "--------------------------------\n",
      "\n",
      "For 10 shots\n",
      "\n",
      "The cost for 10 measurement sampling is 1.5\n",
      "\n",
      "The parameters are [-0.56955911  0.78004591]\n",
      "\n",
      "The cost for 10 measurement sampling is 0.07999999999999999\n",
      "\n",
      "The parameters are [-1.82955911  2.59804591]\n",
      "\n",
      "The cost for 10 measurement sampling is 0.06\n",
      "\n",
      "The parameters are [-1.75755911  2.58604591]\n",
      "\n",
      "The cost for 10 measurement sampling is 0.18000000000000002\n",
      "\n",
      "The parameters are [-1.90155911  2.68204591]\n",
      "\n",
      "Final probability of states is as follows: \n",
      "\n",
      "\n",
      " Probality of 00 is: 0.0 \n",
      " Probality of 01 is: 0.6 \n",
      " Probality of 10 is: 0.3 \n",
      " Probality of 11 is: 0.1\n",
      "--------------------------------\n",
      "\n",
      "For 100 shots\n",
      "\n",
      "The cost for 100 measurement sampling is 0.29800000000000004\n",
      "\n",
      "The parameters are [-0.93624922 -1.85094928]\n",
      "\n",
      "The cost for 100 measurement sampling is 0.010799999999999999\n",
      "\n",
      "The parameters are [-1.51674922 -2.59638928]\n",
      "\n",
      "The cost for 100 measurement sampling is 0.010599999999999997\n",
      "\n",
      "The parameters are [-1.56228922 -2.75760928]\n",
      "\n",
      "The cost for 100 measurement sampling is 0.009399999999999997\n",
      "\n",
      "The parameters are [-1.57518922 -2.85750928]\n",
      "\n",
      "Final probability of states is as follows: \n",
      "\n",
      "\n",
      " Probality of 00 is: 0.0 \n",
      " Probality of 01 is: 0.47 \n",
      " Probality of 10 is: 0.5 \n",
      " Probality of 11 is: 0.03\n",
      "--------------------------------\n",
      "\n",
      "For 1000 shots\n",
      "\n",
      "The cost for 1000 measurement sampling is 1.221604\n",
      "\n",
      "The parameters are [-0.78232065  0.11413928]\n",
      "\n",
      "The cost for 1000 measurement sampling is 0.049266000000000004\n",
      "\n",
      "The parameters are [-1.59094005  2.24238008]\n",
      "\n",
      "The cost for 1000 measurement sampling is 0.006138\n",
      "\n",
      "The parameters are [-1.56623445  2.69084948]\n",
      "\n",
      "The cost for 1000 measurement sampling is 0.005443999999999999\n",
      "\n",
      "The parameters are [-1.55803725  2.82795368]\n",
      "\n",
      "Final probability of states is as follows: \n",
      "\n",
      "\n",
      " Probality of 00 is: 0.035 \n",
      " Probality of 01 is: 0.484 \n",
      " Probality of 10 is: 0.466 \n",
      " Probality of 11 is: 0.015\n"
     ]
    }
   ],
   "source": [
    "prob = []\n",
    "all_costs = []\n",
    "\n",
    "for num_shots in [1, 10, 100, 1000]:\n",
    "    dev.shots = num_shots\n",
    "    initial_parameters = np.random.randn(2) #starting with random parameters\n",
    "    \n",
    "    steps = 40 # Number of steps of optimization\n",
    "    \n",
    "    parameters = initial_parameters.copy()\n",
    "    \n",
    "    optimizer = qml.GradientDescentOptimizer(stepsize=0.6) #The Gradient Descent Optimizer\n",
    "    \n",
    "    costs = []\n",
    "    \n",
    "    print('--------------------------------\\n')\n",
    "    print('For {0} shots\\n'.format(num_shots))\n",
    "    for i in range(steps):\n",
    "        costs.append(cost(parameters))\n",
    "        parameters = optimizer.step(cost, parameters)\n",
    "        \n",
    "        if (i%10 == 0):\n",
    "            print('The cost for {0} measurement sampling is {1}\\n'.format(num_shots, cost(parameters)))\n",
    "            print('The parameters are {0}\\n'.format(parameters))\n",
    "    all_costs.append(costs)\n",
    "\n",
    "    p = [0, 0, 0, 0]\n",
    "    p[0], p[1], p[2], p[3] = bell_state(parameters)\n",
    "    print('Final probability of states is as follows: \\n')\n",
    "    print('\\n Probality of 00 is: {0} \\n Probality of 01 is: {1} \\n Probality of 10 is: {2} \\n Probality of 11 is: {3}'.format(p[0], p[1], p[2], p[3]))\n",
    "    prob.append(p)"
   ]
  },
  {
   "cell_type": "code",
   "execution_count": 10,
   "metadata": {},
   "outputs": [
    {
     "name": "stdout",
     "output_type": "stream",
     "text": [
      "We get the final parameters as [-1.56314145  2.89962728] for RY and RX respectively with noisy simulations.\n"
     ]
    }
   ],
   "source": [
    "print('We get the final parameters as {0} for RY and RX respectively with noisy simulations.'.format(parameters))"
   ]
  },
  {
   "cell_type": "markdown",
   "metadata": {},
   "source": [
    "### Probability Distribution"
   ]
  },
  {
   "cell_type": "code",
   "execution_count": 11,
   "metadata": {},
   "outputs": [
    {
     "data": {
      "text/plain": [
       "<BarContainer object of 4 artists>"
      ]
     },
     "execution_count": 11,
     "metadata": {},
     "output_type": "execute_result"
    },
    {
     "data": {
      "image/png": "[encoded data removed]",
      "text/plain": [
       "<Figure size 432x288 with 1 Axes>"
      ]
     },
     "metadata": {
      "needs_background": "light"
     },
     "output_type": "display_data"
    }
   ],
   "source": [
    "plt.bar(['00','01','10', '11'], prob[0]) #Probability Distribution for shots 1"
   ]
  },
  {
   "cell_type": "code",
   "execution_count": 12,
   "metadata": {},
   "outputs": [
    {
     "data": {
      "text/plain": [
       "<BarContainer object of 4 artists>"
      ]
     },
     "execution_count": 12,
     "metadata": {},
     "output_type": "execute_result"
    },
    {
     "data": {
      "image/png": "[encoded data removed]",
      "text/plain": [
       "<Figure size 432x288 with 1 Axes>"
      ]
     },
     "metadata": {
      "needs_background": "light"
     },
     "output_type": "display_data"
    }
   ],
   "source": [
    "plt.bar(['00','01','10', '11'], prob[1]) #Probability Distribution for shots 10"
   ]
  },
  {
   "cell_type": "code",
   "execution_count": 13,
   "metadata": {},
   "outputs": [
    {
     "data": {
      "text/plain": [
       "<BarContainer object of 4 artists>"
      ]
     },
     "execution_count": 13,
     "metadata": {},
     "output_type": "execute_result"
    },
    {
     "data": {
      "image/png": "[encoded data removed]",
      "text/plain": [
       "<Figure size 432x288 with 1 Axes>"
      ]
     },
     "metadata": {
      "needs_background": "light"
     },
     "output_type": "display_data"
    }
   ],
   "source": [
    "plt.bar(['00','01','10', '11'], prob[2])  #Probability Distribution for shots 100"
   ]
  },
  {
   "cell_type": "code",
   "execution_count": 14,
   "metadata": {},
   "outputs": [
    {
     "data": {
      "text/plain": [
       "<BarContainer object of 4 artists>"
      ]
     },
     "execution_count": 14,
     "metadata": {},
     "output_type": "execute_result"
    },
    {
     "data": {
      "image/png": "[encoded data removed]",
      "text/plain": [
       "<Figure size 432x288 with 1 Axes>"
      ]
     },
     "metadata": {
      "needs_background": "light"
     },
     "output_type": "display_data"
    }
   ],
   "source": [
    "plt.bar(['00','01','10', '11'], prob[3])   #Probability Distribution for shots 1000"
   ]
  },
  {
   "cell_type": "markdown",
   "metadata": {},
   "source": [
    "### Evolution of cost"
   ]
  },
  {
   "cell_type": "code",
   "execution_count": 16,
   "metadata": {},
   "outputs": [
    {
     "data": {
      "image/png": "[encoded data removed]",
      "text/plain": [
       "<Figure size 432x288 with 1 Axes>"
      ]
     },
     "metadata": {
      "needs_background": "light"
     },
     "output_type": "display_data"
    }
   ],
   "source": [
    "plt.plot(all_costs[0], label =\"1\")\n",
    "plt.plot(all_costs[1], label =\"10\")\n",
    "plt.plot(all_costs[2], label =\"100\")\n",
    "plt.plot(all_costs[3], label =\"1000\")\n",
    "plt.ylabel('Cost evolution')\n",
    "plt.legend()\n",
    "plt.show()"
   ]
  },
  {
   "cell_type": "markdown",
   "metadata": {},
   "source": [
    "#### Noiseless Simulation"
   ]
  },
  {
   "cell_type": "code",
   "execution_count": 17,
   "metadata": {},
   "outputs": [
    {
     "name": "stdout",
     "output_type": "stream",
     "text": [
      "--------------------------------\n",
      "\n",
      "For 1000 shots\n",
      "\n",
      "The cost for 1000 measurement sampling is 0.6978260000000001\n",
      "\n",
      "The parameters are [ 1.20569076 -0.85750514]\n",
      "\n",
      "The cost for 1000 measurement sampling is 0.018433999999999996\n",
      "\n",
      "The parameters are [ 1.54428936 -2.52137234]\n",
      "\n",
      "The cost for 1000 measurement sampling is 0.0052239999999999995\n",
      "\n",
      "The parameters are [ 1.59821136 -2.71221194]\n",
      "\n",
      "The cost for 1000 measurement sampling is 0.003973999999999999\n",
      "\n",
      "The parameters are [ 1.56625416 -2.79845954]\n",
      "\n",
      "Final probability of states is as follows: \n",
      "\n",
      "\n",
      " Probality of 00 is: 0.012 \n",
      " Probality of 01 is: 0.488 \n",
      " Probality of 10 is: 0.492 \n",
      " Probality of 11 is: 0.008\n"
     ]
    }
   ],
   "source": [
    "prob = []\n",
    "all_costs = []\n",
    "\n",
    "for num_shots in [1000]:\n",
    "    dev_noiseless.shots = num_shots\n",
    "    initial_parameters = np.random.randn(2) #starting with random parameters\n",
    "    \n",
    "    steps = 40 # Number of steps of optimization\n",
    "    \n",
    "    parameters = initial_parameters.copy()\n",
    "    \n",
    "    optimizer = qml.GradientDescentOptimizer(stepsize=0.6) #The Gradient Descent Optimizer\n",
    "    \n",
    "    costs = []\n",
    "    \n",
    "    print('--------------------------------\\n')\n",
    "    print('For {0} shots\\n'.format(num_shots))\n",
    "    for i in range(steps):\n",
    "        costs.append(cost_noiseless(parameters))\n",
    "        parameters = optimizer.step(cost_noiseless, parameters)\n",
    "        \n",
    "        if (i%10 == 0):\n",
    "            print('The cost for {0} measurement sampling is {1}\\n'.format(num_shots, cost(parameters)))\n",
    "            print('The parameters are {0}\\n'.format(parameters))\n",
    "    all_costs.append(costs)\n",
    "\n",
    "    p = [0, 0, 0, 0]\n",
    "    p[0], p[1], p[2], p[3] = bell_state_noiseless(parameters)\n",
    "    print('Final probability of states is as follows: \\n')\n",
    "    print('\\n Probality of 00 is: {0} \\n Probality of 01 is: {1} \\n Probality of 10 is: {2} \\n Probality of 11 is: {3}'.format(p[0], p[1], p[2], p[3]))\n",
    "    prob.append(p)"
   ]
  },
  {
   "cell_type": "code",
   "execution_count": 19,
   "metadata": {},
   "outputs": [
    {
     "data": {
      "text/plain": [
       "<BarContainer object of 4 artists>"
      ]
     },
     "execution_count": 19,
     "metadata": {},
     "output_type": "execute_result"
    },
    {
     "data": {
      "image/png": "[encoded data removed]",
      "text/plain": [
       "<Figure size 432x288 with 1 Axes>"
      ]
     },
     "metadata": {
      "needs_background": "light"
     },
     "output_type": "display_data"
    }
   ],
   "source": [
    "plt.bar(['00','01','10', '11'], prob[0])   #Probability Distribution for shots 1000"
   ]
  },
  {
   "cell_type": "markdown",
   "metadata": {},
   "source": [
    "#### Conclusion\n",
    "\n",
    "We clearly see through this output that cost reduces significantly with the increase in shots, and we also get a precise probability through that. Noiseless simulation, as expected, increase the precision."
   ]
  },
  {
   "cell_type": "markdown",
   "metadata": {},
   "source": [
    "### Bonus\n",
    "\n",
    "How do we prepare $|01\\rangle + |10\\rangle$ and not $|01\\rangle - |10\\rangle$?\n",
    "\n",
    "#### Solution\n",
    "\n",
    "First we define the same circuit but find the expectation value of X $\\otimes$ X operator. The value $|01\\rangle + |10\\rangle$ is +1 and $|01\\rangle - |10\\rangle$ is -1, as shown below,"
   ]
  },
  {
   "cell_type": "code",
   "execution_count": 20,
   "metadata": {},
   "outputs": [
    {
     "data": {
      "text/plain": [
       "1.0"
      ]
     },
     "execution_count": 20,
     "metadata": {},
     "output_type": "execute_result"
    }
   ],
   "source": [
    "number_qubits = 2\n",
    "\n",
    "dev1 = qml.device(\"default.qubit\", wires=number_qubits, shots=1000, analytic=False)\n",
    "#initialized the device with analytics= False because we will change the no. of shots for sampling\n",
    "\n",
    "@qml.qnode(dev1)\n",
    "def c_plus():\n",
    "    \n",
    "    qml.Hadamard(wires=0)\n",
    "\n",
    "    qml.PauliX(wires=1)\n",
    "    qml.CNOT(wires=[0, 1])\n",
    "    return qml.expval(qml.PauliX(0)@(qml.PauliX(1)))\n",
    "c_plus()"
   ]
  },
  {
   "cell_type": "code",
   "execution_count": 21,
   "metadata": {},
   "outputs": [
    {
     "data": {
      "text/plain": [
       "-1.0"
      ]
     },
     "execution_count": 21,
     "metadata": {},
     "output_type": "execute_result"
    }
   ],
   "source": [
    "number_qubits = 2\n",
    "\n",
    "dev1 = qml.device(\"default.qubit\", wires=number_qubits, shots=1000, analytic=False)\n",
    "#initialized the device with analytics= False because we will change the no. of shots for sampling\n",
    "\n",
    "@qml.qnode(dev1)\n",
    "def c_minus():\n",
    "    qml.PauliX(wires=0)\n",
    "    qml.Hadamard(wires=0)\n",
    "\n",
    "    qml.PauliX(wires=1)\n",
    "    qml.CNOT(wires=[0, 1])\n",
    "    return qml.expval(qml.PauliX(0)@(qml.PauliX(1)))\n",
    "c_minus()"
   ]
  },
  {
   "cell_type": "markdown",
   "metadata": {},
   "source": [
    "#### Parametrized circuit \n",
    "\n",
    "We redefine the circuit because we expect the parametric value for RY gate to $\\tfrac{\\pi}{2}$ and RX to be $\\pi$. Hence we give RY gate the parameter values theta and RZ gate 2*theta"
   ]
  },
  {
   "cell_type": "code",
   "execution_count": 22,
   "metadata": {},
   "outputs": [],
   "source": [
    "number_qubits = 2\n",
    "\n",
    "dev = qml.device(\"default.qubit\", wires=number_qubits, shots=1000, analytic=False)\n",
    "\n",
    "@qml.qnode(dev)\n",
    "def qc(theta):\n",
    "    qml.RY(theta[0], wires=0)\n",
    "    \n",
    "    qml.RX(theta[0]*2, wires=1)\n",
    "    \n",
    "    qml.CNOT(wires=[0, 1])\n",
    "    \n",
    "    return qml.expval(qml.PauliX(0) @ qml.PauliX(1))"
   ]
  },
  {
   "cell_type": "markdown",
   "metadata": {},
   "source": [
    "Now we redefine the cost function,"
   ]
  },
  {
   "cell_type": "code",
   "execution_count": 23,
   "metadata": {},
   "outputs": [],
   "source": [
    "def cost(theta):\n",
    "    val = qc(theta)\n",
    "    return -1*val"
   ]
  },
  {
   "cell_type": "code",
   "execution_count": 25,
   "metadata": {},
   "outputs": [
    {
     "name": "stdout",
     "output_type": "stream",
     "text": [
      "\n",
      "The final parameters for 1000 measurement sampling are: [1.54095578]\n",
      "The expectation value is: 1.0\n"
     ]
    }
   ],
   "source": [
    "num_shots = 1000\n",
    "dev.shots = num_shots\n",
    "initial_parameters = np.random.randn(1) #starting with random parameters\n",
    "    \n",
    "steps = 100 # Number of steps of optimization\n",
    "    \n",
    "parameters = initial_parameters.copy()\n",
    "    \n",
    "optimizer = qml.GradientDescentOptimizer(stepsize=0.6) #The Gradient Descent Optimizer\n",
    "    \n",
    "costs = []\n",
    "    \n",
    "for i in range(steps):\n",
    "    costs.append(cost(parameters))\n",
    "    parameters = optimizer.step(cost, parameters)\n",
    "\n",
    "print('\\nThe final parameters for {0} measurement sampling are: {1}'.format(num_shots, parameters))\n",
    "val = qc(parameters)\n",
    "print('The expectation value is: {0}'.format(val))"
   ]
  },
  {
   "cell_type": "code",
   "execution_count": null,
   "metadata": {},
   "outputs": [],
   "source": []
  }
 ],
 "metadata": {
  "kernelspec": {
   "display_name": "Python 3",
   "language": "python",
   "name": "python3"
  },
  "language_info": {
   "codemirror_mode": {
    "name": "ipython",
    "version": 3
   },
   "file_extension": ".py",
   "mimetype": "text/x-python",
   "name": "python",
   "nbconvert_exporter": "python",
   "pygments_lexer": "ipython3",
   "version": "3.8.5"
  }
 },
 "nbformat": 4,
 "nbformat_minor": 4
}
