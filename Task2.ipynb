{
 "cells": [
  {
   "cell_type": "markdown",
   "metadata": {},
   "source": [
    "## Task 2\n",
    "\n",
    "### Question\n",
    "Implement a circuit that returns $|01\\rangle$ and $|10\\rangle$ with equal probability.\n",
    "\n",
    "Requirements :\n",
    "\n",
    "-The circuit should consist only of CNOTs, RXs and RYs.\n",
    "\n",
    "-Start from all parameters in parametric gates being equal to 0 or randomly chosen. \n",
    "\n",
    "-You should find the right set of parameters using gradient descent (you might use more advanced optimization methods if you like). \n",
    "\n",
    "-Simulations must be done with sampling - i.e. a limited number of measurements per iteration and noise. \n",
    "\n",
    "Compare the results for different numbers of measurements: 1, 10, 100, 1000. \n",
    "\n",
    "#### Bonus question:\n",
    "How to make sure you produce state $|01\\rangle$ + $|10\\rangle$ and not $|01\\rangle$ - $|10\\rangle$ ?\n"
   ]
  },
  {
   "cell_type": "markdown",
   "metadata": {},
   "source": [
    "### Solution\n",
    "\n",
    "As a part of QOSF screening tasks I am attempting the above question with Pennylane with qiskit plugin. \n",
    "\n",
    "* I used pennylane because it provides an easy way to define circuits with parameters as well as wide range of optimizers to optimize the circuit with.\n",
    "\n",
    "* I am using qiskit pugin to import the noise model"
   ]
  },
  {
   "cell_type": "markdown",
   "metadata": {},
   "source": [
    "Import the required libraries"
   ]
  },
  {
   "cell_type": "code",
   "execution_count": 3,
   "metadata": {},
   "outputs": [],
   "source": [
    "import pennylane as qml\n",
    "import numpy as np\n",
    "import matplotlib.pyplot as plt\n",
    "\n",
    "import qiskit\n",
    "from qiskit.providers.aer.noise.device import basic_device_noise_model"
   ]
  },
  {
   "cell_type": "markdown",
   "metadata": {},
   "source": [
    "Import the noise model"
   ]
  },
  {
   "cell_type": "code",
   "execution_count": 4,
   "metadata": {},
   "outputs": [
    {
     "name": "stderr",
     "output_type": "stream",
     "text": [
      "/home/rochisha/anaconda3/envs/quantum/lib/python3.8/site-packages/qiskit/providers/ibmq/ibmqfactory.py:192: UserWarning: Timestamps in IBMQ backend properties, jobs, and job results are all now in local time instead of UTC.\n",
      "  warnings.warn('Timestamps in IBMQ backend properties, jobs, and job results '\n",
      "/home/rochisha/anaconda3/envs/quantum/lib/python3.8/site-packages/qiskit/providers/aer/noise/device/basic_device_model.py:111: DeprecationWarning: This function is been deprecated and moved to a method of the`NoiseModel` class. For equivalent functionality use `NoiseModel.from_backend(properties, **kwargs).\n",
      "  warnings.warn(\n",
      "WARNING:qiskit.providers.aer.noise.device.models:Device reported a gate error parameter greater than maximum allowed value (1.000000 > 0.800000). Truncating to maximum value.\n",
      "WARNING:qiskit.providers.aer.noise.device.models:Device model returned a depolarizing error parameter greater than maximum allowed value (1.070868 > 1.066667). Truncating to maximum value.\n",
      "WARNING:qiskit.providers.aer.noise.device.models:Device reported a gate error parameter greater than maximum allowed value (1.000000 > 0.800000). Truncating to maximum value.\n",
      "WARNING:qiskit.providers.aer.noise.device.models:Device model returned a depolarizing error parameter greater than maximum allowed value (1.069857 > 1.066667). Truncating to maximum value.\n",
      "WARNING:qiskit.providers.aer.noise.device.models:Device reported a gate error parameter greater than maximum allowed value (1.000000 > 0.800000). Truncating to maximum value.\n",
      "WARNING:qiskit.providers.aer.noise.device.models:Device model returned a depolarizing error parameter greater than maximum allowed value (1.070584 > 1.066667). Truncating to maximum value.\n",
      "WARNING:qiskit.providers.aer.noise.device.models:Device reported a gate error parameter greater than maximum allowed value (1.000000 > 0.800000). Truncating to maximum value.\n",
      "WARNING:qiskit.providers.aer.noise.device.models:Device model returned a depolarizing error parameter greater than maximum allowed value (1.070347 > 1.066667). Truncating to maximum value.\n",
      "WARNING:qiskit.providers.aer.noise.device.models:Device reported a gate error parameter greater than maximum allowed value (1.000000 > 0.800000). Truncating to maximum value.\n",
      "WARNING:qiskit.providers.aer.noise.device.models:Device model returned a depolarizing error parameter greater than maximum allowed value (1.068731 > 1.066667). Truncating to maximum value.\n",
      "WARNING:qiskit.providers.aer.noise.device.models:Device reported a gate error parameter greater than maximum allowed value (1.000000 > 0.800000). Truncating to maximum value.\n",
      "WARNING:qiskit.providers.aer.noise.device.models:Device model returned a depolarizing error parameter greater than maximum allowed value (1.068918 > 1.066667). Truncating to maximum value.\n"
     ]
    }
   ],
   "source": [
    "qiskit.IBMQ.load_account()          #load account using your credentials\n",
    "provider = qiskit.IBMQ.get_provider(group='open')\n",
    "ibmq_16_melbourne = provider.get_backend('ibmq_16_melbourne')     \n",
    "device_properties = ibmq_16_melbourne.properties()\n",
    "noise_model = basic_device_noise_model(device_properties)"
   ]
  },
  {
   "cell_type": "markdown",
   "metadata": {},
   "source": [
    "We need the state $\\tfrac{1}{\\sqrt{2}}(|01\\rangle + |10\\rangle)$. Essentially this state is a Bell's State that can be developed by applying creating a superposition through Hadamard Gate.\n",
    "\n",
    "$$|0\\rangle \\otimes |1\\rangle \\rightarrow \\tfrac{1}{\\sqrt{2}}(|0\\rangle + |1\\rangle)  \\otimes |1\\rangle$$\n",
    "$$|1\\rangle \\otimes |1\\rangle \\rightarrow \\tfrac{1}{\\sqrt{2}}(|0\\rangle - |1\\rangle)  \\otimes |1\\rangle$$\n",
    "\n",
    "Then apply a CNOT gate which gives,\n",
    "$$\\tfrac{1}{\\sqrt{2}}(|0\\rangle + |1\\rangle)  \\otimes |1\\rangle \\rightarrow \\tfrac{1}{\\sqrt{2}}(|01\\rangle + |10\\rangle)$$\n",
    "$$\\tfrac{1}{\\sqrt{2}}(|0\\rangle - |1\\rangle)  \\otimes |1\\rangle \\rightarrow \\tfrac{1}{\\sqrt{2}}(|01\\rangle - |10\\rangle)$$\n",
    "\n",
    "But for the sake of the task we have to use Rx and Ry gates and find the parameters through optimization."
   ]
  },
  {
   "cell_type": "markdown",
   "metadata": {},
   "source": [
    "#### Creating the circuit with H and X and CNOT"
   ]
  },
  {
   "cell_type": "code",
   "execution_count": 5,
   "metadata": {},
   "outputs": [
    {
     "data": {
      "text/plain": [
       "array([0.061, 0.453, 0.476, 0.01 ])"
      ]
     },
     "execution_count": 5,
     "metadata": {},
     "output_type": "execute_result"
    }
   ],
   "source": [
    "number_qubits = 2\n",
    "\n",
    "dev1 = qml.device(\"qiskit.aer\", wires=number_qubits, shots=1000, noise_model = noise_model, analytic=False)\n",
    "#initialized the device with analytics= False because we will change the no. of shots for sampling\n",
    "\n",
    "@qml.qnode(dev1)\n",
    "def psi():\n",
    "    \n",
    "    qml.Hadamard(wires=0)\n",
    "    \n",
    "    qml.PauliX(wires=1)\n",
    "    \n",
    "    qml.CNOT(wires=[0, 1])\n",
    "    \n",
    "    #Return probablity of states in lexigrophical ordering '00', '01', '10', '11'\n",
    "    return qml.probs(wires=[0,1]) \n",
    "\n",
    "psi()"
   ]
  },
  {
   "cell_type": "markdown",
   "metadata": {},
   "source": [
    "#### Creating the circuit with parametrized Rx, Ry (we take two parameters). I don't add RX gate on the first qubit because it adds a phase of $-i$. "
   ]
  },
  {
   "cell_type": "code",
   "execution_count": 6,
   "metadata": {},
   "outputs": [],
   "source": [
    "def circ(theta):\n",
    "    qml.RY(theta[0], wires=0)\n",
    "    \n",
    "    qml.RX(theta[1], wires=1)\n",
    "    \n",
    "    qml.CNOT(wires=[0, 1])"
   ]
  },
  {
   "cell_type": "markdown",
   "metadata": {},
   "source": [
    "We want the parameter for RY gate to be $\\pm \\frac{\\pi}{2}$ and RX gate to be $\\pm \\pi$"
   ]
  },
  {
   "cell_type": "markdown",
   "metadata": {},
   "source": [
    "#### Intitalizing the circuit with noise"
   ]
  },
  {
   "cell_type": "code",
   "execution_count": 7,
   "metadata": {},
   "outputs": [],
   "source": [
    "number_qubits = 2\n",
    "\n",
    "dev = qml.device(\"qiskit.aer\", wires=number_qubits, shots=1000, noise_model = noise_model, analytic=False)\n",
    "\n",
    "@qml.qnode(dev)\n",
    "def bell_state(theta):\n",
    "    \n",
    "    circ(theta)\n",
    "    \n",
    "    return qml.probs(wires=[0,1])\n"
   ]
  },
  {
   "cell_type": "markdown",
   "metadata": {},
   "source": [
    "`qml.probs()` will return a flat array or tensor containing the (marginal) probabilities of each quantum state in the lexigrophic ordering. \n",
    "\n",
    "Hence first value of the array corresponds to probability of state '00', second '01', third '10' and fourth '11'\n",
    "\n",
    "We have to get the probablity of state,\n",
    "$$00 \\rightarrow 0 $$\n",
    "$$01 \\rightarrow 0.5 $$\n",
    "$$10 \\rightarrow 0.5 $$\n",
    "$$11 \\rightarrow 0 $$\n",
    "\n",
    "We have to minimize,\n",
    " `((prob_00-0)**2 + (prob_01-0.5)**2 + (prob_10-0.5)**2 + (prob_11-0)**2)`"
   ]
  },
  {
   "cell_type": "code",
   "execution_count": 8,
   "metadata": {},
   "outputs": [],
   "source": [
    "def cost(theta):\n",
    "    prob_00, prob_01, prob_10, prob_11 = bell_state(theta)\n",
    "    return ((prob_00-0)**2 + (prob_01-0.5)**2 + (prob_10-0.5)**2 + (prob_11-0)**2)"
   ]
  },
  {
   "cell_type": "markdown",
   "metadata": {},
   "source": [
    "Now we have to find the parameters by the Gradient Descent Optimizer (given in the library) and minimize the cost."
   ]
  },
  {
   "cell_type": "code",
   "execution_count": 9,
   "metadata": {},
   "outputs": [
    {
     "name": "stdout",
     "output_type": "stream",
     "text": [
      "--------------------------------\n",
      "\n",
      "For 1 shots\n",
      "\n",
      "The cost for 1 measurement sampling is 1.5\n",
      "\n",
      "The parameters are [-1.26492001  0.83057718]\n",
      "\n",
      "The cost for 1 measurement sampling is 1.5\n",
      "\n",
      "The parameters are [-3.96492001  2.03057718]\n",
      "\n",
      "The cost for 1 measurement sampling is 0.5\n",
      "\n",
      "The parameters are [-2.76492001  1.73057718]\n",
      "\n",
      "The cost for 1 measurement sampling is 1.5\n",
      "\n",
      "The parameters are [-0.96492001  1.73057718]\n",
      "\n",
      "Final probability of states is as follows: \n",
      "\n",
      "\n",
      " Probality of 00 is: 1.0 \n",
      " Probality of 01 is: 0.0 \n",
      " Probality of 10 is: 0.0 \n",
      " Probality of 11 is: 0.0\n",
      "--------------------------------\n",
      "\n",
      "For 10 shots\n",
      "\n",
      "The cost for 10 measurement sampling is 0.66\n",
      "\n",
      "The parameters are [ 1.32238754 -0.88342387]\n",
      "\n",
      "The cost for 10 measurement sampling is 0.039999999999999994\n",
      "\n",
      "The parameters are [ 1.61038754 -2.40142387]\n",
      "\n",
      "The cost for 10 measurement sampling is 0.13999999999999999\n",
      "\n",
      "The parameters are [ 1.95838754 -2.73742387]\n",
      "\n",
      "The cost for 10 measurement sampling is 0.08000000000000002\n",
      "\n",
      "The parameters are [ 1.63438754 -2.91742387]\n",
      "\n",
      "Final probability of states is as follows: \n",
      "\n",
      "\n",
      " Probality of 00 is: 0.1 \n",
      " Probality of 01 is: 0.7 \n",
      " Probality of 10 is: 0.2 \n",
      " Probality of 11 is: 0.0\n",
      "--------------------------------\n",
      "\n",
      "For 100 shots\n",
      "\n",
      "The cost for 100 measurement sampling is 0.9686\n",
      "\n",
      "The parameters are [1.03959681 0.51875011]\n",
      "\n",
      "The cost for 100 measurement sampling is 0.0354\n",
      "\n",
      "The parameters are [1.61091681 2.52425011]\n",
      "\n",
      "The cost for 100 measurement sampling is 0.024200000000000003\n",
      "\n",
      "The parameters are [1.53273681 2.79533011]\n",
      "\n",
      "The cost for 100 measurement sampling is 0.0266\n",
      "\n",
      "The parameters are [1.70523681 2.95031011]\n",
      "\n",
      "Final probability of states is as follows: \n",
      "\n",
      "\n",
      " Probality of 00 is: 0.1 \n",
      " Probality of 01 is: 0.42 \n",
      " Probality of 10 is: 0.44 \n",
      " Probality of 11 is: 0.04\n",
      "--------------------------------\n",
      "\n",
      "For 1000 shots\n",
      "\n",
      "The cost for 1000 measurement sampling is 0.828134\n",
      "\n",
      "The parameters are [-2.17845539  0.62522629]\n",
      "\n",
      "The cost for 1000 measurement sampling is 0.024934000000000005\n",
      "\n",
      "The parameters are [-1.61361419  2.47482289]\n",
      "\n",
      "The cost for 1000 measurement sampling is 0.012034000000000001\n",
      "\n",
      "The parameters are [-1.59393539  2.79157549]\n",
      "\n",
      "The cost for 1000 measurement sampling is 0.011213999999999998\n",
      "\n",
      "The parameters are [-1.59864779  2.91455029]\n",
      "\n",
      "Final probability of states is as follows: \n",
      "\n",
      "\n",
      " Probality of 00 is: 0.079 \n",
      " Probality of 01 is: 0.436 \n",
      " Probality of 10 is: 0.473 \n",
      " Probality of 11 is: 0.012\n"
     ]
    }
   ],
   "source": [
    "prob = []\n",
    "all_costs = []\n",
    "\n",
    "for num_shots in [1, 10, 100, 1000]:\n",
    "    dev.shots = num_shots\n",
    "    initial_parameters = np.random.randn(2) #starting with random parameters\n",
    "    \n",
    "    steps = 40 # Number of steps of optimization\n",
    "    \n",
    "    parameters = initial_parameters.copy()\n",
    "    \n",
    "    optimizer = qml.GradientDescentOptimizer(stepsize=0.6) #The Gradient Descent Optimizer\n",
    "    \n",
    "    costs = []\n",
    "    \n",
    "    print('--------------------------------\\n')\n",
    "    print('For {0} shots\\n'.format(num_shots))\n",
    "    for i in range(steps):\n",
    "        costs.append(cost(parameters))\n",
    "        parameters = optimizer.step(cost, parameters)\n",
    "        \n",
    "        if (i%10 == 0):\n",
    "            print('The cost for {0} measurement sampling is {1}\\n'.format(num_shots, cost(parameters)))\n",
    "            print('The parameters are {0}\\n'.format(parameters))\n",
    "    all_costs.append(costs)\n",
    "\n",
    "    p = [0, 0, 0, 0]\n",
    "    p[0], p[1], p[2], p[3] = bell_state(parameters)\n",
    "    print('Final probability of states is as follows: \\n')\n",
    "    print('\\n Probality of 00 is: {0} \\n Probality of 01 is: {1} \\n Probality of 10 is: {2} \\n Probality of 11 is: {3}'.format(p[0], p[1], p[2], p[3]))\n",
    "    prob.append(p)"
   ]
  },
  {
   "cell_type": "code",
   "execution_count": 10,
   "metadata": {},
   "outputs": [
    {
     "name": "stdout",
     "output_type": "stream",
     "text": [
      "We get the final parameters as [-1.55058299  2.98935049] for RY and RX respectively.\n"
     ]
    }
   ],
   "source": [
    "print('We get the final parameters as {0} for RY and RX respectively.'.format(parameters))"
   ]
  },
  {
   "cell_type": "markdown",
   "metadata": {},
   "source": [
    "### Probability Distribution"
   ]
  },
  {
   "cell_type": "code",
   "execution_count": 17,
   "metadata": {},
   "outputs": [
    {
     "data": {
      "text/plain": [
       "<BarContainer object of 4 artists>"
      ]
     },
     "execution_count": 17,
     "metadata": {},
     "output_type": "execute_result"
    },
    {
     "data": {
      "image/png": "[encoded data removed]",
      "text/plain": [
       "<Figure size 432x288 with 1 Axes>"
      ]
     },
     "metadata": {
      "needs_background": "light"
     },
     "output_type": "display_data"
    }
   ],
   "source": [
    "plt.bar(['00','01','10', '11'], prob[0]) #Probability Distribution for shots 1"
   ]
  },
  {
   "cell_type": "code",
   "execution_count": 18,
   "metadata": {},
   "outputs": [
    {
     "data": {
      "text/plain": [
       "<BarContainer object of 4 artists>"
      ]
     },
     "execution_count": 18,
     "metadata": {},
     "output_type": "execute_result"
    },
    {
     "data": {
      "image/png": "[encoded data removed]",
      "text/plain": [
       "<Figure size 432x288 with 1 Axes>"
      ]
     },
     "metadata": {
      "needs_background": "light"
     },
     "output_type": "display_data"
    }
   ],
   "source": [
    "plt.bar(['00','01','10', '11'], prob[1]) #Probability Distribution for shots 10"
   ]
  },
  {
   "cell_type": "code",
   "execution_count": 19,
   "metadata": {},
   "outputs": [
    {
     "data": {
      "text/plain": [
       "<BarContainer object of 4 artists>"
      ]
     },
     "execution_count": 19,
     "metadata": {},
     "output_type": "execute_result"
    },
    {
     "data": {
      "image/png": "[encoded data removed]",
      "text/plain": [
       "<Figure size 432x288 with 1 Axes>"
      ]
     },
     "metadata": {
      "needs_background": "light"
     },
     "output_type": "display_data"
    }
   ],
   "source": [
    "plt.bar(['00','01','10', '11'], prob[2])  #Probability Distribution for shots 100"
   ]
  },
  {
   "cell_type": "code",
   "execution_count": 20,
   "metadata": {},
   "outputs": [
    {
     "data": {
      "text/plain": [
       "<BarContainer object of 4 artists>"
      ]
     },
     "execution_count": 20,
     "metadata": {},
     "output_type": "execute_result"
    },
    {
     "data": {
      "image/png": "[encoded data removed]",
      "text/plain": [
       "<Figure size 432x288 with 1 Axes>"
      ]
     },
     "metadata": {
      "needs_background": "light"
     },
     "output_type": "display_data"
    }
   ],
   "source": [
    "plt.bar(['00','01','10', '11'], prob[3])   #Probability Distribution for shots 1000"
   ]
  },
  {
   "cell_type": "markdown",
   "metadata": {},
   "source": [
    "### Evolution of cost"
   ]
  },
  {
   "cell_type": "code",
   "execution_count": 21,
   "metadata": {},
   "outputs": [
    {
     "data": {
      "image/png": "[encoded data removed]",
      "text/plain": [
       "<Figure size 432x288 with 1 Axes>"
      ]
     },
     "metadata": {
      "needs_background": "light"
     },
     "output_type": "display_data"
    }
   ],
   "source": [
    "plt.plot(all_costs[0], label =\"00\")\n",
    "plt.plot(all_costs[1], label =\"01\")\n",
    "plt.plot(all_costs[2], label =\"10\")\n",
    "plt.plot(all_costs[3], label =\"11\")\n",
    "plt.ylabel('Cost evolution')\n",
    "plt.legend()\n",
    "plt.show()"
   ]
  },
  {
   "cell_type": "markdown",
   "metadata": {},
   "source": [
    "#### Conclusion\n",
    "\n",
    "We clearly see through this output that cost reduces significantly with the increase in shots, and we also get a precise probability through that"
   ]
  },
  {
   "cell_type": "markdown",
   "metadata": {},
   "source": [
    "### Bonus\n",
    "\n",
    "How do we prepare $|01\\rangle + |10\\rangle$ and not $|01\\rangle - |10\\rangle$?\n",
    "\n",
    "#### Solution\n",
    "\n",
    "First we define the same circuit but find the expectation value of X $\\otimes$ X operator. The value $|01\\rangle + |10\\rangle$ is +1 and $|01\\rangle - |10\\rangle$ is -1, as shown below,"
   ]
  },
  {
   "cell_type": "code",
   "execution_count": 22,
   "metadata": {},
   "outputs": [
    {
     "data": {
      "text/plain": [
       "1.0"
      ]
     },
     "execution_count": 22,
     "metadata": {},
     "output_type": "execute_result"
    }
   ],
   "source": [
    "number_qubits = 2\n",
    "\n",
    "dev1 = qml.device(\"default.qubit\", wires=number_qubits, shots=1000, analytic=False)\n",
    "#initialized the device with analytics= False because we will change the no. of shots for sampling\n",
    "\n",
    "@qml.qnode(dev1)\n",
    "def c_plus():\n",
    "    \n",
    "    qml.Hadamard(wires=0)\n",
    "\n",
    "    qml.PauliX(wires=1)\n",
    "    qml.CNOT(wires=[0, 1])\n",
    "    return qml.expval(qml.PauliX(0)@(qml.PauliX(1)))\n",
    "c_plus()"
   ]
  },
  {
   "cell_type": "code",
   "execution_count": 23,
   "metadata": {},
   "outputs": [
    {
     "data": {
      "text/plain": [
       "-1.0"
      ]
     },
     "execution_count": 23,
     "metadata": {},
     "output_type": "execute_result"
    }
   ],
   "source": [
    "number_qubits = 2\n",
    "\n",
    "dev1 = qml.device(\"default.qubit\", wires=number_qubits, shots=1000, analytic=False)\n",
    "#initialized the device with analytics= False because we will change the no. of shots for sampling\n",
    "\n",
    "@qml.qnode(dev1)\n",
    "def c_minus():\n",
    "    qml.PauliX(wires=0)\n",
    "    qml.Hadamard(wires=0)\n",
    "\n",
    "    qml.PauliX(wires=1)\n",
    "    qml.CNOT(wires=[0, 1])\n",
    "    return qml.expval(qml.PauliX(0)@(qml.PauliX(1)))\n",
    "c_minus()"
   ]
  },
  {
   "cell_type": "markdown",
   "metadata": {},
   "source": [
    "#### Parametrized circuit \n",
    "\n",
    "We redefine the circuit because we expect the parametric value for RY gate to $\\tfrac{\\pi}{2}$ and RX to be $\\pi$. Hence we give RY gate the parameter values theta and RZ gate 2*theta"
   ]
  },
  {
   "cell_type": "code",
   "execution_count": 29,
   "metadata": {},
   "outputs": [],
   "source": [
    "number_qubits = 2\n",
    "\n",
    "dev = qml.device(\"default.qubit\", wires=number_qubits, shots=1000, analytic=False)\n",
    "\n",
    "@qml.qnode(dev)\n",
    "def qc(theta):\n",
    "    qml.RY(theta[0], wires=0)\n",
    "    \n",
    "    qml.RX(theta[0]*2, wires=1)\n",
    "    \n",
    "    qml.CNOT(wires=[0, 1])\n",
    "    \n",
    "    return qml.expval(qml.PauliX(0) @ qml.PauliX(1))"
   ]
  },
  {
   "cell_type": "markdown",
   "metadata": {},
   "source": [
    "Now we redefine the cost function,"
   ]
  },
  {
   "cell_type": "code",
   "execution_count": 25,
   "metadata": {},
   "outputs": [],
   "source": [
    "def cost(theta):\n",
    "    val = qc(theta)\n",
    "    return -1*val"
   ]
  },
  {
   "cell_type": "code",
   "execution_count": 30,
   "metadata": {},
   "outputs": [
    {
     "name": "stdout",
     "output_type": "stream",
     "text": [
      "\n",
      "The final parameters for 1000 measurement sampling are: [1.58765743]\n",
      "The expectation value is: 1.0\n"
     ]
    }
   ],
   "source": [
    "num_shots = 1000\n",
    "dev.shots = num_shots\n",
    "initial_parameters = np.random.randn(1) #starting with random parameters\n",
    "    \n",
    "steps = 100 # Number of steps of optimization\n",
    "    \n",
    "parameters = initial_parameters.copy()\n",
    "    \n",
    "optimizer = qml.GradientDescentOptimizer(stepsize=0.6) #The Gradient Descent Optimizer\n",
    "    \n",
    "costs = []\n",
    "    \n",
    "for i in range(steps):\n",
    "    costs.append(cost(parameters))\n",
    "    parameters = optimizer.step(cost, parameters)\n",
    "\n",
    "print('\\nThe final parameters for {0} measurement sampling are: {1}'.format(num_shots, parameters))\n",
    "val = qc(parameters)\n",
    "print('The expectation value is: {0}'.format(val))"
   ]
  },
  {
   "cell_type": "code",
   "execution_count": null,
   "metadata": {},
   "outputs": [],
   "source": []
  }
 ],
 "metadata": {
  "kernelspec": {
   "display_name": "Python 3",
   "language": "python",
   "name": "python3"
  },
  "language_info": {
   "codemirror_mode": {
    "name": "ipython",
    "version": 3
   },
   "file_extension": ".py",
   "mimetype": "text/x-python",
   "name": "python",
   "nbconvert_exporter": "python",
   "pygments_lexer": "ipython3",
   "version": "3.8.5"
  }
 },
 "nbformat": 4,
 "nbformat_minor": 4
}
